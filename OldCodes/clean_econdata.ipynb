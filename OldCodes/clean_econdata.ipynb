{
 "cells": [
  {
   "cell_type": "markdown",
   "id": "2c677559",
   "metadata": {},
   "source": [
    "# clean yearly econ data for 2015 to 2018 "
   ]
  },
  {
   "cell_type": "code",
   "execution_count": 3,
   "id": "e15b7b4a",
   "metadata": {},
   "outputs": [],
   "source": [
    "import geopandas as gpd\n",
    "import matplotlib as plt\n",
    "import pandas as pd\n",
    "import os\n",
    "import numpy as np\n",
    "from sklearn.preprocessing import MinMaxScaler\n",
    "import matplotlib.pyplot as plt\n",
    "from shapely.geometry import Point\n",
    "6\n",
    "%matplotlib inline\n",
    "\n",
    "import seaborn as sns\n",
    "#plt.style.use('seaborn')\n",
    "plt.rcParams['figure.dpi'] = 160"
   ]
  },
  {
   "cell_type": "code",
   "execution_count": 4,
   "id": "14fd7187",
   "metadata": {},
   "outputs": [],
   "source": [
    "import pandas as pd\n",
    "import geopandas as gpd\n",
    "from geopandas import GeoDataFrame\n",
    "\n",
    "import numpy as np\n",
    "import matplotlib.pyplot as plt\n",
    "from shapely.geometry import Point \n",
    "%matplotlib inline"
   ]
  },
  {
   "cell_type": "code",
   "execution_count": 9,
   "id": "17180f8f",
   "metadata": {},
   "outputs": [],
   "source": [
    "ecodata15=pd.read_csv('../Data/ProjectData/CCA_2015_RAW.csv')\n",
    "ecodata16=pd.read_csv('../Data/ProjectData/CCA_2016_RAW.csv')\n",
    "ecodata17=pd.read_csv('../Data/ProjectData/CCA_2017_RAW.csv')\n",
    "ecodata18=pd.read_csv('../Data/ProjectData/CCA_2018_RAW.csv')\n",
    "\n",
    "ecodata=pd.read_csv('../Data/ProjectData/Community_Data_Snapshots_2023.csv')"
   ]
  },
  {
   "cell_type": "code",
   "execution_count": 10,
   "id": "f5e4ebf1",
   "metadata": {},
   "outputs": [
    {
     "name": "stdout",
     "output_type": "stream",
     "text": [
      "2022: (77, 259)\n",
      "2015: (77, 132)\n",
      "2016: (77, 156)\n",
      "2017: (77, 156)\n",
      "2018: (77, 227)\n"
     ]
    }
   ],
   "source": [
    "print(f'2022: {ecodata.shape}')\n",
    "print(f'2015: {ecodata15.shape}')\n",
    "print(f'2016: {ecodata16.shape}')\n",
    "print(f'2017: {ecodata17.shape}')\n",
    "print(f'2018: {ecodata18.shape}')"
   ]
  },
  {
   "cell_type": "code",
   "execution_count": 11,
   "id": "436ea07e",
   "metadata": {},
   "outputs": [
    {
     "name": "stdout",
     "output_type": "stream",
     "text": [
      "    OBJECTID             CCA  2000_POP  2010_POP  POP_CHANGE  TOT_EMP_RES  \\\n",
      "0          1     Albany Park     57655     51542       -6113        16850   \n",
      "1          2  Archer Heights     12644     13393         749         4620   \n",
      "2          3   Armour Square     12032     13391        1359         4599   \n",
      "3          4         Ashburn     39584     41081        1497        15541   \n",
      "4          5  Auburn Gresham     55928     48743       -7185        13475   \n",
      "..       ...             ...       ...       ...         ...          ...   \n",
      "72        73       West Lawn     29235     33355        4120        10676   \n",
      "73        74    West Pullman     36649     29651       -6998         9481   \n",
      "74        75      West Ridge     73199     71942       -1257        23969   \n",
      "75        76       West Town     87435     82236       -5199        39396   \n",
      "76        77        Woodlawn     27086     23740       -3346         6873   \n",
      "\n",
      "                   RES_NAICS1_TYPE RES_NAICS2_TYPE  \\\n",
      "0                      Health Care    Retail Trade   \n",
      "1                    Manufacturing    Retail Trade   \n",
      "2   Accommodation and Food Service     Health Care   \n",
      "3                      Health Care       Education   \n",
      "4                      Health Care       Education   \n",
      "..                             ...             ...   \n",
      "72                   Manufacturing    Retail Trade   \n",
      "73                     Health Care       Education   \n",
      "74                     Health Care    Retail Trade   \n",
      "75                    Professional     Health Care   \n",
      "76                     Health Care       Education   \n",
      "\n",
      "                   RES_NAICS3_TYPE                 RES_NAICS4_TYPE  ...  \\\n",
      "0   Accommodation and Food Service                   Manufacturing  ...   \n",
      "1                   Administration  Accommodation and Food Service  ...   \n",
      "2                     Retail Trade                   Manufacturing  ...   \n",
      "3            Public Administration                    Retail Trade  ...   \n",
      "4                     Retail Trade                  Administration  ...   \n",
      "..                             ...                             ...  ...   \n",
      "72                     Health Care                  Administration  ...   \n",
      "73                    Retail Trade                  Administration  ...   \n",
      "74                       Education  Accommodation and Food Service  ...   \n",
      "75                       Education  Accommodation and Food Service  ...   \n",
      "76                  Administration                    Retail Trade  ...   \n",
      "\n",
      "   BR_0_1   BR_2   BR_3  BR_4  BR_5  HV_LT_150K  HV_150_300K HV_300_500K  \\\n",
      "0    4504   7616   4409  1165   319         920         3048        1559   \n",
      "1     290   1502   1669   431   288         485         1521         228   \n",
      "2    1530   1707   1926   398   159         303          990         456   \n",
      "3     242   2279   7456  2593   830        3807         6663         572   \n",
      "4    3958   6593   6986  2192   897        4314         3187         266   \n",
      "..    ...    ...    ...   ...   ...         ...          ...         ...   \n",
      "72    728   2314   4148  1730   802        2244         4281         105   \n",
      "73    697   2445   5670  1781   942        3720         1826          72   \n",
      "74   6843   9444   8858  1789   636        3421         4001        3832   \n",
      "75   8668  19240  10147  2330   730         685         2841        6745   \n",
      "76   2943   3848   4179   946   267         744          906         245   \n",
      "\n",
      "   HV_GT_500K       MED_HV  \n",
      "0         671  252041.9426  \n",
      "1          45  198606.9277  \n",
      "2         217  255531.6092  \n",
      "3          18  171042.9897  \n",
      "4          33  137965.1163  \n",
      "..        ...          ...  \n",
      "72         21  167625.4889  \n",
      "73         50  121938.7755  \n",
      "74        609  243299.5495  \n",
      "75       4163  390266.5688  \n",
      "76         38  183020.8333  \n",
      "\n",
      "[77 rows x 132 columns]\n",
      "    OBJECTID            GEOG  2000_POP  2010_POP  POP_CHANGE  TOT_POP  UND19  \\\n",
      "0          1     Albany Park     57655     51542       -6113    52930  14351   \n",
      "1          2  Archer Heights     12644     13393         749    13971   4319   \n",
      "2          3   Armour Square     12032     13391        1359    13907   3037   \n",
      "3          4         Ashburn     39584     41081        1497    42809  12553   \n",
      "4          5  Auburn Gresham     55928     48743       -7185    47611  13305   \n",
      "..       ...             ...       ...       ...         ...      ...    ...   \n",
      "72        73       West Lawn     29235     33355        4120    33477  11179   \n",
      "73        74    West Pullman     36649     29651       -6998    28171   8646   \n",
      "74        75      West Ridge     73199     71942       -1257    73019  20305   \n",
      "75        76       West Town     87435     82236       -5199    85211  15025   \n",
      "76        77        Woodlawn     27086     23740       -3346    22817   7437   \n",
      "\n",
      "    A20_34  A35_49  A50_64  ...         IND    INDperc        TRANS  \\\n",
      "0    14417   11908    8016  ...   19.929938   1.621420   414.736812   \n",
      "1     3277    2876    2058  ...  344.677590  26.848038   558.599207   \n",
      "2     3206    2434    2651  ...   18.046053   2.831079   343.648391   \n",
      "3     8473    8808    8724  ...  104.574805   3.362800  1064.249375   \n",
      "4     9014    8262    9515  ...   57.729492   2.393450   834.435659   \n",
      "..     ...     ...     ...  ...         ...        ...          ...   \n",
      "72    8003    6934    4694  ...  191.110982  10.113261   636.605139   \n",
      "73    5232    5153    5154  ...   63.717179   2.793241   816.956581   \n",
      "74   15361   14754   13368  ...    2.962216   0.131093   655.581024   \n",
      "75   36608   19508    9058  ...  193.519056   6.608235  1088.025977   \n",
      "76    4970    4308    3766  ...    3.804855   0.287106   349.115958   \n",
      "\n",
      "    TRANSperc        AG    Agperc        OPEN   OPENperc      VACANT   VACperc  \n",
      "0   33.741335  0.000000  0.000000   25.293181   2.057752    6.672887  0.542880  \n",
      "1   43.511076  0.000000  0.000000   12.295439   0.957731   32.517216  2.532870  \n",
      "2   53.911829  0.000000  0.000000   15.019249   2.356231   14.366379  2.253809  \n",
      "3   34.222945  0.000000  0.000000  259.867667   8.356535   83.385680  2.681424  \n",
      "4   34.595488  0.000000  0.000000   59.011603   2.446606  119.183176  4.941304  \n",
      "..        ...       ...       ...         ...        ...         ...       ...  \n",
      "72  33.688037  0.000000  0.000000   35.652789   1.886684   52.233939  2.764129  \n",
      "73  35.813833  0.212537  0.009317   43.467025   1.905512  226.990983  9.950856  \n",
      "74  29.012758  0.000000  0.000000  188.532119   8.343495   16.658137  0.737206  \n",
      "75  37.153608  0.000000  0.000000  239.329738   8.172565   69.981987  2.389725  \n",
      "76  26.343550  0.000000  0.000000  348.365832  26.286947  119.500534  9.017257  \n",
      "\n",
      "[77 rows x 156 columns]\n",
      "    OBJECTID            GEOG  2000_POP  2010_POP  POP_CHANGE  TOT_POP  UND19  \\\n",
      "0          1     Albany Park     57655     51542       -6113    52079  13550   \n",
      "1          2  Archer Heights     12644     13393         749    13266   4205   \n",
      "2          3   Armour Square     12032     13391        1359    14068   3029   \n",
      "3          4         Ashburn     39584     41081        1497    42752  12506   \n",
      "4          5  Auburn Gresham     55928     48743       -7185    45842  12050   \n",
      "..       ...             ...       ...       ...         ...      ...    ...   \n",
      "72        73       West Lawn     29235     33355        4120    32749  10654   \n",
      "73        74    West Pullman     36649     29651       -6998    27982   8308   \n",
      "74        75      West Ridge     73199     71942       -1257    72211  19462   \n",
      "75        76       West Town     87435     82236       -5199    86429  15453   \n",
      "76        77        Woodlawn     27086     23740       -3346    24150   8195   \n",
      "\n",
      "    A20_34  A35_49  A50_64  ...         IND   INDperc        TRANS  TRANSperc  \\\n",
      "0    13719   11806    8412  ...   20.188115  0.016424   413.623654   0.336509   \n",
      "1     2948    2830    1924  ...  333.605519  0.259857   555.886936   0.433000   \n",
      "2     3004    2500    2806  ...   18.034999  0.028294   343.632520   0.539096   \n",
      "3     8188    8951    8557  ...  103.805630  0.033381  1071.498311   0.344562   \n",
      "4     8948    7776    9624  ...   54.893064  0.022759   834.364134   0.345927   \n",
      "..     ...     ...     ...  ...         ...       ...          ...        ...   \n",
      "72    7741    6901    4670  ...  192.902477  0.102081   636.689977   0.336927   \n",
      "73    5399    4966    5185  ...   60.410103  0.026483   798.338242   0.349978   \n",
      "74   15563   14244   13754  ...    2.584204  0.001144   655.619544   0.290146   \n",
      "75   37151   19877    8986  ...  190.733223  0.065131  1085.935600   0.370824   \n",
      "76    5151    4574    3708  ...    3.764897  0.002841   341.125558   0.257392   \n",
      "\n",
      "          AG    Agperc        OPEN  OPENperc      VACANT   VACperc  \n",
      "0        NaN       NaN   28.102925  0.022864    5.474954  0.004454  \n",
      "1        NaN       NaN   15.005146  0.011688   33.087293  0.025773  \n",
      "2        NaN       NaN   15.019186  0.023562   14.762374  0.023159  \n",
      "3        NaN       NaN  259.866614  0.083565   41.085006  0.013212  \n",
      "4        NaN       NaN   59.343998  0.024604  122.035750  0.050596  \n",
      "..       ...       ...         ...       ...         ...       ...  \n",
      "72       NaN       NaN   35.652646  0.018867   38.828819  0.020548  \n",
      "73  0.212536  0.000093   87.396537  0.038313  216.722638  0.095007  \n",
      "74       NaN       NaN  188.531377  0.083435   11.537577  0.005106  \n",
      "75       NaN       NaN  242.089373  0.082668   67.398364  0.023015  \n",
      "76       NaN       NaN  357.380485  0.269657  122.222330  0.092221  \n",
      "\n",
      "[77 rows x 156 columns]\n",
      "    OBJECTID            GEOG  2000_POP  2010_POP  TOT_POP  UND19  A20_34  \\\n",
      "0          1     Albany Park     57655     51542    51575  13354   13738   \n",
      "1          2  Archer Heights     12644     13393    13233   4016    2933   \n",
      "2          3   Armour Square     12032     13391    13699   2997    2824   \n",
      "3          4         Ashburn     39584     41081    43283  12983    8368   \n",
      "4          5  Auburn Gresham     55928     48743    45770  11432    9224   \n",
      "..       ...             ...       ...       ...      ...    ...     ...   \n",
      "72        73       West Lawn     29235     33355    33595  11317    7883   \n",
      "73        74    West Pullman     36649     29651    27582   7743    5668   \n",
      "74        75      West Ridge     73199     71942    73723  19951   16264   \n",
      "75        76       West Town     87435     82236    85307  14797   36427   \n",
      "76        77        Woodlawn     27086     23740    23808   7814    5480   \n",
      "\n",
      "    A35_49  A50_64  A65_74  ...  2000_RENT_OCC_HU  2000_VAC_HU  2000_HU_TOT  \\\n",
      "0    11975    8232    2329  ...               NaN          NaN          NaN   \n",
      "1     2879    1897     907  ...               NaN          NaN          NaN   \n",
      "2     2539    2541    1371  ...               NaN          NaN          NaN   \n",
      "3     8998    8477    2855  ...               NaN          NaN          NaN   \n",
      "4     7941    9587    4041  ...               NaN          NaN          NaN   \n",
      "..     ...     ...     ...  ...               ...          ...          ...   \n",
      "72    7120    4544    1597  ...               NaN          NaN          NaN   \n",
      "73    4806    5160    2552  ...               NaN          NaN          NaN   \n",
      "74   14581   13704    5138  ...               NaN          NaN          NaN   \n",
      "75   20110    8722    3175  ...               NaN          NaN          NaN   \n",
      "76    4127    3748    1693  ...               NaN          NaN          NaN   \n",
      "\n",
      "    2000_LT_HS  2000_HS  2000_SOME_COLL  2000_ASSOC  2000_BACH  \\\n",
      "0          NaN      NaN             NaN         NaN        NaN   \n",
      "1          NaN      NaN             NaN         NaN        NaN   \n",
      "2          NaN      NaN             NaN         NaN        NaN   \n",
      "3          NaN      NaN             NaN         NaN        NaN   \n",
      "4          NaN      NaN             NaN         NaN        NaN   \n",
      "..         ...      ...             ...         ...        ...   \n",
      "72         NaN      NaN             NaN         NaN        NaN   \n",
      "73         NaN      NaN             NaN         NaN        NaN   \n",
      "74         NaN      NaN             NaN         NaN        NaN   \n",
      "75         NaN      NaN             NaN         NaN        NaN   \n",
      "76         NaN      NaN             NaN         NaN        NaN   \n",
      "\n",
      "    2000_GRAD_PROF  2000_POP_25OV  \n",
      "0              NaN            NaN  \n",
      "1              NaN            NaN  \n",
      "2              NaN            NaN  \n",
      "3              NaN            NaN  \n",
      "4              NaN            NaN  \n",
      "..             ...            ...  \n",
      "72             NaN            NaN  \n",
      "73             NaN            NaN  \n",
      "74             NaN            NaN  \n",
      "75             NaN            NaN  \n",
      "76             NaN            NaN  \n",
      "\n",
      "[77 rows x 227 columns]\n"
     ]
    }
   ],
   "source": [
    "print(ecodata15) #CCA\n",
    "print(ecodata16) #GEOG\n",
    "print(ecodata17) #GEOG\n",
    "print(ecodata18) #GEOG"
   ]
  },
  {
   "cell_type": "code",
   "execution_count": 12,
   "id": "dd56e55f",
   "metadata": {},
   "outputs": [
    {
     "data": {
      "text/plain": [
       "126"
      ]
     },
     "execution_count": 12,
     "metadata": {},
     "output_type": "execute_result"
    }
   ],
   "source": [
    "temp_dup=np.intersect1d(ecodata15.columns.values,ecodata16.columns.values)\n",
    "# temp_dup=np.intersect1d(ecodata16.columns.values,temp_dup)\n",
    "temp_dup=np.intersect1d(ecodata17.columns.values,temp_dup)\n",
    "temp_dup=np.intersect1d(ecodata18.columns.values,temp_dup)\n",
    "len(temp_dup)"
   ]
  },
  {
   "cell_type": "code",
   "execution_count": 13,
   "id": "bf2b6f8e",
   "metadata": {},
   "outputs": [
    {
     "name": "stdout",
     "output_type": "stream",
     "text": [
      "['2000_POP' '2010_POP' 'A20_34' 'A35_49' 'A50_64' 'AG' 'ASIAN' 'AVG_VMT'\n",
      " 'Agperc' 'BACH' 'BLACK' 'BR_0_1' 'BR_2' 'BR_3' 'BR_4' 'BR_5' 'CARPOOL'\n",
      " 'COMM' 'COMM_OTHER' 'COMMperc' 'DROVE_AL' 'EMP' 'HA_40_70' 'HA_70_00'\n",
      " 'HA_AFT2000' 'HA_BEF1940' 'HISP' 'HS' 'HU_2UN' 'HU_3_4UN' 'HU_GT_5UN'\n",
      " 'HU_SNG_ATT' 'HU_SNG_DET' 'HU_TOT' 'HV_150_300K' 'HV_300_500K'\n",
      " 'HV_GT_500K' 'HV_LT_150K' 'INC_100_150K' 'INC_25_50K' 'INC_50_75K'\n",
      " 'INC_75_100K' 'INC_GT_150' 'INC_LT_25K' 'IND' 'INDperc' 'INST' 'INSTperc'\n",
      " 'IN_LBFRC' 'MED_AGE' 'MED_HA' 'MED_HV' 'MED_ROOMS' 'MF' 'MIX' 'MIXperc'\n",
      " 'Mfperc' 'NOT_IN_LBFRC' 'OBJECTID' 'OPEN' 'OPENperc' 'OTHER' 'OWN_OCC_HU'\n",
      " 'POP_16OV' 'POP_25OV' 'POP_HH' 'RENT_OCC_HU' 'RES_CITY1_COUNT'\n",
      " 'RES_CITY1_TYPE' 'RES_CITY2_COUNT' 'RES_CITY2_TYPE' 'RES_CITY3_COUNT'\n",
      " 'RES_CITY3_TYPE' 'RES_CITY4_COUNT' 'RES_CITY4_TYPE' 'RES_CITY5_COUNT'\n",
      " 'RES_CITY5_TYPE' 'RES_NAICS1_COUNT' 'RES_NAICS1_TYPE' 'RES_NAICS2_COUNT'\n",
      " 'RES_NAICS2_TYPE' 'RES_NAICS3_COUNT' 'RES_NAICS3_TYPE' 'RES_NAICS4_COUNT'\n",
      " 'RES_NAICS4_TYPE' 'RES_NAICS5_COUNT' 'RES_NAICS5_TYPE' 'SF' 'Sfperc'\n",
      " 'TOT_ACRES' 'TOT_COMM' 'TOT_EMP_RES' 'TOT_EMP_WORK' 'TOT_HH' 'TOT_POP'\n",
      " 'TRANS' 'TRANSIT' 'TRANSperc' 'UND19' 'UNEMP' 'VACANT' 'VAC_HU' 'VACperc'\n",
      " 'WALK_BIKE' 'WHITE' 'WORK_AT_HOME' 'WORK_CITY1_COUNT' 'WORK_CITY1_TYPE'\n",
      " 'WORK_CITY2_COUNT' 'WORK_CITY2_TYPE' 'WORK_CITY3_COUNT' 'WORK_CITY3_TYPE'\n",
      " 'WORK_CITY4_COUNT' 'WORK_CITY4_TYPE' 'WORK_CITY5_COUNT' 'WORK_CITY5_TYPE'\n",
      " 'WORK_NAICS1_COUNT' 'WORK_NAICS1_TYPE' 'WORK_NAICS2_COUNT'\n",
      " 'WORK_NAICS2_TYPE' 'WORK_NAICS3_COUNT' 'WORK_NAICS3_TYPE'\n",
      " 'WORK_NAICS4_COUNT' 'WORK_NAICS4_TYPE' 'WORK_NAICS5_COUNT'\n",
      " 'WORK_NAICS5_TYPE']\n"
     ]
    }
   ],
   "source": [
    "print(temp_dup)"
   ]
  },
  {
   "cell_type": "code",
   "execution_count": 14,
   "id": "ec51783f",
   "metadata": {},
   "outputs": [],
   "source": [
    "col_races=[\"WHITE\", \"HISP\", \"BLACK\", \"ASIAN\", \"OTHER\"]\n",
    "col_edu=[\"LT_HS\", \"HS\", \"SOME_COLL\", \"ASSOC\", \"BACH\", \"GRAD_PROF\", \"UND5\"]\n",
    "\n",
    "col_ages=[\"A5_19\", \"A20_34\", \"A35_49\", \"A50_64\", \"A65_74\", \"A75_84\", \"OV85\"]  ##ages\n",
    "col_emp=[ \"IN_LBFRC\", \"EMP\", \"UNEMP\", \"NOT_IN_LBFRC\",\"MED_HV\"]    ## employment status\n",
    "col_inc=[\"INC_LT_25K\", \"INC_25_50K\", \"INC_50_75K\", \"INC_75_100K\", \"INC_100_150K\",\\\n",
    "         \"INC_GT_150\", \"MEDINC\", \"INCPERCAP\"] ## Household Income\n",
    "col_dev=[\"COMPUTER\", \"ONLY_SMARTPHONE\", \"NO_COMPUTER\", \"INTERNET\", \"BROADBAND\", \"NO_INTERNET\"]   ## Household Computer and Internet Access\n",
    "col_comm=[\"TRANSIT_LOW_PCT\", \"TRANSIT_MOD_PCT\", \"TRANSIT_HIGH_PCT\"]  ## Transit Availability of Resident and Job Locations\n",
    "col_walk=[\"WALKABLE_LOW_PCT\", \"WALKABLE_MOD_PCT\", \"WALKABLE_HIGH_PCT\"]  ## Walkability of Resident and Job Locations\n",
    "          "
   ]
  },
  {
   "cell_type": "code",
   "execution_count": 15,
   "id": "51f7e72d",
   "metadata": {},
   "outputs": [],
   "source": [
    "all_raw=[ecodata15,ecodata16,ecodata17,ecodata18]"
   ]
  },
  {
   "cell_type": "code",
   "execution_count": 16,
   "id": "1f8a8d93",
   "metadata": {},
   "outputs": [
    {
     "name": "stdout",
     "output_type": "stream",
     "text": [
      "(77, 5)\n",
      "(77, 5)\n",
      "(77, 5)\n",
      "(77, 5)\n"
     ]
    }
   ],
   "source": [
    "for name,df in zip(['15','16','17','18'], all_raw):\n",
    "#     print(df.shape)\n",
    "    try:\n",
    "        t=df[col_races]\n",
    "        print(t.shape)\n",
    "    except Exception as e:\n",
    "        print(e)"
   ]
  },
  {
   "cell_type": "code",
   "execution_count": 17,
   "id": "f7cab7b1",
   "metadata": {},
   "outputs": [
    {
     "name": "stdout",
     "output_type": "stream",
     "text": [
      "\"['LT_HS', 'SOME_COLL', 'ASSOC', 'GRAD_PROF', 'UND5'] not in index\"\n",
      "\"['LT_HS', 'SOME_COLL', 'ASSOC', 'GRAD_PROF', 'UND5'] not in index\"\n",
      "\"['LT_HS', 'SOME_COLL', 'ASSOC', 'GRAD_PROF', 'UND5'] not in index\"\n",
      "\"['UND5'] not in index\"\n"
     ]
    }
   ],
   "source": [
    "col_edu1=['LT_HS', 'HS', 'SOME_COLL',\n",
    "       'ASSOC', 'BACH', 'GRAD_PROF']\n",
    "for name,df in zip(['15','16','17','18'], all_raw):\n",
    "    try:\n",
    "        t=df[col_edu]\n",
    "        print(t.shape)\n",
    "    except Exception as e:\n",
    "        print(e)"
   ]
  },
  {
   "cell_type": "code",
   "execution_count": 18,
   "id": "80d79506",
   "metadata": {},
   "outputs": [
    {
     "name": "stdout",
     "output_type": "stream",
     "text": [
      "(77, 7)\n",
      "(77, 7)\n",
      "(77, 7)\n",
      "\"['A65_79', 'OV80'] not in index\"\n"
     ]
    }
   ],
   "source": [
    "col_ages1=['UND19', 'A20_34',\n",
    "       'A35_49', 'A50_64', 'A65_79', 'OV80', 'MED_AGE',]\n",
    "for name,df in zip(['15','16','17','18'], all_raw):\n",
    "    try:\n",
    "        t=df[col_ages1]\n",
    "        print(t.shape)\n",
    "    except Exception as e:\n",
    "        print(e)"
   ]
  },
  {
   "cell_type": "code",
   "execution_count": 19,
   "id": "392352d9",
   "metadata": {},
   "outputs": [
    {
     "name": "stdout",
     "output_type": "stream",
     "text": [
      "(77, 5)\n",
      "(77, 5)\n",
      "(77, 5)\n",
      "(77, 5)\n"
     ]
    }
   ],
   "source": [
    "for name,df in zip(['15','16','17','18'], all_raw):\n",
    "    try:\n",
    "        t=df[col_emp]\n",
    "        print(t.shape)\n",
    "    except Exception as e:\n",
    "        print(e)"
   ]
  },
  {
   "cell_type": "code",
   "execution_count": 20,
   "id": "478cc672",
   "metadata": {},
   "outputs": [
    {
     "name": "stdout",
     "output_type": "stream",
     "text": [
      "\"['MEDINC', 'INCPERCAP'] not in index\"\n",
      "\"['INCPERCAP'] not in index\"\n",
      "\"['INCPERCAP'] not in index\"\n",
      "\"['INCPERCAP'] not in index\"\n"
     ]
    }
   ],
   "source": [
    "for name,df in zip(['15','16','17','18'], all_raw):\n",
    "    try:\n",
    "        t=df[col_inc]\n",
    "        print(t.shape)\n",
    "    except Exception as e:\n",
    "        print(e)"
   ]
  },
  {
   "cell_type": "code",
   "execution_count": 21,
   "id": "2b40c7d4",
   "metadata": {},
   "outputs": [
    {
     "name": "stdout",
     "output_type": "stream",
     "text": [
      "\"None of [Index(['COMPUTER', 'ONLY_SMARTPHONE', 'NO_COMPUTER', 'INTERNET', 'BROADBAND',\\n       'NO_INTERNET'],\\n      dtype='object')] are in the [columns]\"\n",
      "\"None of [Index(['COMPUTER', 'ONLY_SMARTPHONE', 'NO_COMPUTER', 'INTERNET', 'BROADBAND',\\n       'NO_INTERNET'],\\n      dtype='object')] are in the [columns]\"\n",
      "\"None of [Index(['COMPUTER', 'ONLY_SMARTPHONE', 'NO_COMPUTER', 'INTERNET', 'BROADBAND',\\n       'NO_INTERNET'],\\n      dtype='object')] are in the [columns]\"\n",
      "\"None of [Index(['COMPUTER', 'ONLY_SMARTPHONE', 'NO_COMPUTER', 'INTERNET', 'BROADBAND',\\n       'NO_INTERNET'],\\n      dtype='object')] are in the [columns]\"\n"
     ]
    }
   ],
   "source": [
    "for name,df in zip(['15','16','17','18'], all_raw):\n",
    "    try:\n",
    "        t=df[col_dev]\n",
    "        print(t.shape)\n",
    "    except Exception as e:\n",
    "        print(e)"
   ]
  },
  {
   "cell_type": "code",
   "execution_count": 22,
   "id": "1860d36d",
   "metadata": {},
   "outputs": [
    {
     "name": "stdout",
     "output_type": "stream",
     "text": [
      "\"None of [Index(['TRANSIT_LOW_PCT', 'TRANSIT_MOD_PCT', 'TRANSIT_HIGH_PCT'], dtype='object')] are in the [columns]\"\n",
      "\"None of [Index(['TRANSIT_LOW_PCT', 'TRANSIT_MOD_PCT', 'TRANSIT_HIGH_PCT'], dtype='object')] are in the [columns]\"\n",
      "\"None of [Index(['TRANSIT_LOW_PCT', 'TRANSIT_MOD_PCT', 'TRANSIT_HIGH_PCT'], dtype='object')] are in the [columns]\"\n",
      "\"None of [Index(['TRANSIT_LOW_PCT', 'TRANSIT_MOD_PCT', 'TRANSIT_HIGH_PCT'], dtype='object')] are in the [columns]\"\n"
     ]
    }
   ],
   "source": [
    "for name,df in zip(['15','16','17','18'], all_raw):\n",
    "    try:\n",
    "        t=df[col_comm]\n",
    "        print(t.shape)\n",
    "    except Exception as e:\n",
    "        print(e)"
   ]
  },
  {
   "cell_type": "code",
   "execution_count": 23,
   "id": "9bfecb1b",
   "metadata": {},
   "outputs": [
    {
     "name": "stdout",
     "output_type": "stream",
     "text": [
      "\"None of [Index(['WALKABLE_LOW_PCT', 'WALKABLE_MOD_PCT', 'WALKABLE_HIGH_PCT'], dtype='object')] are in the [columns]\"\n",
      "\"None of [Index(['WALKABLE_LOW_PCT', 'WALKABLE_MOD_PCT', 'WALKABLE_HIGH_PCT'], dtype='object')] are in the [columns]\"\n",
      "\"None of [Index(['WALKABLE_LOW_PCT', 'WALKABLE_MOD_PCT', 'WALKABLE_HIGH_PCT'], dtype='object')] are in the [columns]\"\n",
      "\"None of [Index(['WALKABLE_LOW_PCT', 'WALKABLE_MOD_PCT', 'WALKABLE_HIGH_PCT'], dtype='object')] are in the [columns]\"\n"
     ]
    }
   ],
   "source": [
    "for name,df in zip(['15','16','17','18'], all_raw):\n",
    "    try:\n",
    "        t=df[col_walk]\n",
    "        print(t.shape)\n",
    "    except Exception as e:\n",
    "        print(e)"
   ]
  },
  {
   "cell_type": "code",
   "execution_count": 24,
   "id": "60b4dfa8",
   "metadata": {},
   "outputs": [
    {
     "data": {
      "text/plain": [
       "array(['OBJECTID', 'CCA', '2000_POP', '2010_POP', 'POP_CHANGE',\n",
       "       'TOT_EMP_RES', 'RES_NAICS1_TYPE', 'RES_NAICS2_TYPE',\n",
       "       'RES_NAICS3_TYPE', 'RES_NAICS4_TYPE', 'RES_NAICS5_TYPE',\n",
       "       'RES_NAICS1_COUNT', 'RES_NAICS2_COUNT', 'RES_NAICS3_COUNT',\n",
       "       'RES_NAICS4_COUNT', 'RES_NAICS5_COUNT', 'TOT_EMP_WORK',\n",
       "       'WORK_NAICS1_TYPE', 'WORK_NAICS2_TYPE', 'WORK_NAICS3_TYPE',\n",
       "       'WORK_NAICS4_TYPE', 'WORK_NAICS5_TYPE', 'WORK_NAICS1_COUNT',\n",
       "       'WORK_NAICS2_COUNT', 'WORK_NAICS3_COUNT', 'WORK_NAICS4_COUNT',\n",
       "       'WORK_NAICS5_COUNT', 'RES_CITY1_TYPE', 'RES_CITY2_TYPE',\n",
       "       'RES_CITY3_TYPE', 'RES_CITY4_TYPE', 'RES_CITY5_TYPE',\n",
       "       'RES_CITY1_COUNT', 'RES_CITY2_COUNT', 'RES_CITY3_COUNT',\n",
       "       'RES_CITY4_COUNT', 'RES_CITY5_COUNT', 'WORK_CITY1_TYPE',\n",
       "       'WORK_CITY2_TYPE', 'WORK_CITY3_TYPE', 'WORK_CITY4_TYPE',\n",
       "       'WORK_CITY5_TYPE', 'WORK_CITY1_COUNT', 'WORK_CITY2_COUNT',\n",
       "       'WORK_CITY3_COUNT', 'WORK_CITY4_COUNT', 'WORK_CITY5_COUNT',\n",
       "       'AVG_VMT', 'PARK_ACC', 'TOT_ACRES', 'SF', 'Sfperc', 'MF', 'Mfperc',\n",
       "       'MIX', 'MIXperc', 'COMM', 'COMMperc', 'INST', 'INSTperc', 'IND',\n",
       "       'INDperc', 'TRANS', 'TRANSperc', 'AG', 'Agperc', 'OPEN',\n",
       "       'OPENperc', 'VACANT', 'VACperc', 'TOT_POP', 'UND19', 'A20_34',\n",
       "       'A35_49', 'A50_64', 'A65_79', 'OV80', 'MED_AGE', 'WHITE', 'HISP',\n",
       "       'BLACK', 'ASIAN', 'OTHER', 'POP_HH', 'POP_16OV', 'IN_LBFRC', 'EMP',\n",
       "       'UNEMP', 'NOT_IN_LBFRC', 'WORK_AT_HOME', 'TOT_COMM', 'DROVE_AL',\n",
       "       'CARPOOL', 'TRANSIT', 'WALK_BIKE', 'COMM_OTHER', 'POP_25OV', 'HS',\n",
       "       'BACH', 'INC_LT_25K', 'INC_25_50K', 'INC_50_75K', 'INC_75_100K',\n",
       "       'INC_100_150K', 'INC_GT_150', 'MED_INC', 'TOT_HH', 'OWN_OCC_HU',\n",
       "       'RENT_OCC_HU', 'VAC_HU', 'HU_TOT', 'HU_SNG_DET', 'HU_SNG_ATT',\n",
       "       'HU_2UN', 'HU_3_4UN', 'HU_GT_5UN', 'MED_ROOMS', 'HA_AFT2000',\n",
       "       'HA_70_00', 'HA_40_70', 'HA_BEF1940', 'MED_HA', 'BR_0_1', 'BR_2',\n",
       "       'BR_3', 'BR_4', 'BR_5', 'HV_LT_150K', 'HV_150_300K', 'HV_300_500K',\n",
       "       'HV_GT_500K', 'MED_HV'], dtype=object)"
      ]
     },
     "execution_count": 24,
     "metadata": {},
     "output_type": "execute_result"
    }
   ],
   "source": [
    "ecodata15.columns.values"
   ]
  },
  {
   "cell_type": "code",
   "execution_count": 25,
   "id": "ab9e576f",
   "metadata": {},
   "outputs": [],
   "source": [
    "ecodata15['GEOG']=ecodata15['CCA']\n",
    "ecodata15['MEDINC']=ecodata15['MED_INC']\n",
    "ecodata18['A65_79']=ecodata18['A65_74']\n",
    "ecodata18['OV80']=ecodata18['A75_84']+ecodata18['OV85']"
   ]
  },
  {
   "cell_type": "code",
   "execution_count": 26,
   "id": "0ada419e",
   "metadata": {},
   "outputs": [
    {
     "data": {
      "text/plain": [
       "array(['2000_POP', '2010_POP', 'A20_34', 'A35_49', 'A50_64', 'A65_79',\n",
       "       'AG', 'ASIAN', 'AVG_VMT', 'Agperc', 'BACH', 'BLACK', 'BR_0_1',\n",
       "       'BR_2', 'BR_3', 'BR_4', 'BR_5', 'CARPOOL', 'COMM', 'COMM_OTHER',\n",
       "       'COMMperc', 'DROVE_AL', 'EMP', 'GEOG', 'HA_40_70', 'HA_70_00',\n",
       "       'HA_AFT2000', 'HA_BEF1940', 'HISP', 'HS', 'HU_2UN', 'HU_3_4UN',\n",
       "       'HU_GT_5UN', 'HU_SNG_ATT', 'HU_SNG_DET', 'HU_TOT', 'HV_150_300K',\n",
       "       'HV_300_500K', 'HV_GT_500K', 'HV_LT_150K', 'INC_100_150K',\n",
       "       'INC_25_50K', 'INC_50_75K', 'INC_75_100K', 'INC_GT_150',\n",
       "       'INC_LT_25K', 'IND', 'INDperc', 'INST', 'INSTperc', 'IN_LBFRC',\n",
       "       'MEDINC', 'MED_AGE', 'MED_HA', 'MED_HV', 'MED_ROOMS', 'MF', 'MIX',\n",
       "       'MIXperc', 'Mfperc', 'NOT_IN_LBFRC', 'OBJECTID', 'OPEN',\n",
       "       'OPENperc', 'OTHER', 'OV80', 'OWN_OCC_HU', 'POP_16OV', 'POP_25OV',\n",
       "       'POP_HH', 'RENT_OCC_HU', 'RES_CITY1_COUNT', 'RES_CITY1_TYPE',\n",
       "       'RES_CITY2_COUNT', 'RES_CITY2_TYPE', 'RES_CITY3_COUNT',\n",
       "       'RES_CITY3_TYPE', 'RES_CITY4_COUNT', 'RES_CITY4_TYPE',\n",
       "       'RES_CITY5_COUNT', 'RES_CITY5_TYPE', 'RES_NAICS1_COUNT',\n",
       "       'RES_NAICS1_TYPE', 'RES_NAICS2_COUNT', 'RES_NAICS2_TYPE',\n",
       "       'RES_NAICS3_COUNT', 'RES_NAICS3_TYPE', 'RES_NAICS4_COUNT',\n",
       "       'RES_NAICS4_TYPE', 'RES_NAICS5_COUNT', 'RES_NAICS5_TYPE', 'SF',\n",
       "       'Sfperc', 'TOT_ACRES', 'TOT_COMM', 'TOT_EMP_RES', 'TOT_EMP_WORK',\n",
       "       'TOT_HH', 'TOT_POP', 'TRANS', 'TRANSIT', 'TRANSperc', 'UND19',\n",
       "       'UNEMP', 'VACANT', 'VAC_HU', 'VACperc', 'WALK_BIKE', 'WHITE',\n",
       "       'WORK_AT_HOME', 'WORK_CITY1_COUNT', 'WORK_CITY1_TYPE',\n",
       "       'WORK_CITY2_COUNT', 'WORK_CITY2_TYPE', 'WORK_CITY3_COUNT',\n",
       "       'WORK_CITY3_TYPE', 'WORK_CITY4_COUNT', 'WORK_CITY4_TYPE',\n",
       "       'WORK_CITY5_COUNT', 'WORK_CITY5_TYPE', 'WORK_NAICS1_COUNT',\n",
       "       'WORK_NAICS1_TYPE', 'WORK_NAICS2_COUNT', 'WORK_NAICS2_TYPE',\n",
       "       'WORK_NAICS3_COUNT', 'WORK_NAICS3_TYPE', 'WORK_NAICS4_COUNT',\n",
       "       'WORK_NAICS4_TYPE', 'WORK_NAICS5_COUNT', 'WORK_NAICS5_TYPE'],\n",
       "      dtype=object)"
      ]
     },
     "execution_count": 26,
     "metadata": {},
     "output_type": "execute_result"
    }
   ],
   "source": [
    "temp_dup=np.intersect1d(ecodata15.columns.values,ecodata16.columns.values)\n",
    "# temp_dup=np.intersect1d(ecodata16.columns.values,temp_dup)\n",
    "temp_dup=np.intersect1d(ecodata17.columns.values,temp_dup)\n",
    "temp_dup=np.intersect1d(ecodata18.columns.values,temp_dup)\n",
    "len(temp_dup)\n",
    "temp_dup"
   ]
  },
  {
   "cell_type": "code",
   "execution_count": null,
   "id": "faf68dfd",
   "metadata": {},
   "outputs": [],
   "source": []
  },
  {
   "cell_type": "code",
   "execution_count": 35,
   "id": "ea2991ed",
   "metadata": {},
   "outputs": [
    {
     "data": {
      "text/plain": [
       "28"
      ]
     },
     "execution_count": 35,
     "metadata": {},
     "output_type": "execute_result"
    }
   ],
   "source": [
    "all_selected_columns=col_races+col_ages1+col_emp+col_inc+['GEOG','TOT_POP','TOT_HH','MED_ROOMS']\n",
    "all_selected_columns.remove('INCPERCAP')\n",
    "len(all_selected_columns)"
   ]
  },
  {
   "cell_type": "code",
   "execution_count": 36,
   "id": "e7d3558b",
   "metadata": {},
   "outputs": [],
   "source": [
    "all_selected_columns=np.array(all_selected_columns)"
   ]
  },
  {
   "cell_type": "code",
   "execution_count": 37,
   "id": "f660d520",
   "metadata": {},
   "outputs": [
    {
     "data": {
      "text/plain": [
       "array(['WHITE', 'HISP', 'BLACK', 'ASIAN', 'OTHER', 'UND19', 'A20_34',\n",
       "       'A35_49', 'A50_64', 'A65_79', 'OV80', 'MED_AGE', 'IN_LBFRC', 'EMP',\n",
       "       'UNEMP', 'NOT_IN_LBFRC', 'MED_HV', 'INC_LT_25K', 'INC_25_50K',\n",
       "       'INC_50_75K', 'INC_75_100K', 'INC_100_150K', 'INC_GT_150',\n",
       "       'MEDINC', 'GEOG', 'TOT_POP', 'TOT_HH', 'MED_ROOMS'], dtype='<U12')"
      ]
     },
     "execution_count": 37,
     "metadata": {},
     "output_type": "execute_result"
    }
   ],
   "source": [
    "all_selected_columns"
   ]
  },
  {
   "cell_type": "code",
   "execution_count": 38,
   "id": "623ef0a2",
   "metadata": {},
   "outputs": [
    {
     "data": {
      "text/plain": [
       "Index(['OBJECTID', 'CCA', '2000_POP', '2010_POP', 'POP_CHANGE', 'TOT_EMP_RES',\n",
       "       'RES_NAICS1_TYPE', 'RES_NAICS2_TYPE', 'RES_NAICS3_TYPE',\n",
       "       'RES_NAICS4_TYPE',\n",
       "       ...\n",
       "       'BR_3', 'BR_4', 'BR_5', 'HV_LT_150K', 'HV_150_300K', 'HV_300_500K',\n",
       "       'HV_GT_500K', 'MED_HV', 'GEOG', 'MEDINC'],\n",
       "      dtype='object', length=134)"
      ]
     },
     "execution_count": 38,
     "metadata": {},
     "output_type": "execute_result"
    }
   ],
   "source": [
    "ecodata15.columns"
   ]
  },
  {
   "cell_type": "code",
   "execution_count": 39,
   "id": "0cae2296",
   "metadata": {},
   "outputs": [],
   "source": [
    "ecodata15[all_selected_columns].to_csv('../Data/ProjectData/econ15_2.csv',index=False)\n",
    "ecodata16[all_selected_columns].to_csv('../Data/ProjectData/econ16_2.csv',index=False)\n",
    "ecodata17[all_selected_columns].to_csv('../Data/ProjectData/econ17_2.csv',index=False)\n",
    "ecodata18[all_selected_columns].to_csv('../Data/ProjectData/econ18_2.csv',index=False)"
   ]
  },
  {
   "cell_type": "code",
   "execution_count": 79,
   "id": "c6cc6919",
   "metadata": {},
   "outputs": [],
   "source": [
    "ecodata15=pd.read_csv('./data/econ/econ15.csv')\n",
    "ecodata16=pd.read_csv('./data/econ/econ16.csv')\n",
    "ecodata17=pd.read_csv('./data/econ/econ17.csv')\n",
    "ecodata18=pd.read_csv('./data/econ/econ18.csv')"
   ]
  },
  {
   "cell_type": "code",
   "execution_count": 41,
   "id": "1c0db2fa",
   "metadata": {},
   "outputs": [
    {
     "data": {
      "text/plain": [
       "WHITE           0\n",
       "HISP            0\n",
       "BLACK           0\n",
       "ASIAN           0\n",
       "OTHER           0\n",
       "UND19           0\n",
       "A20_34          0\n",
       "A35_49          0\n",
       "A50_64          0\n",
       "A65_79          0\n",
       "OV80            0\n",
       "MED_AGE         0\n",
       "IN_LBFRC        0\n",
       "EMP             0\n",
       "UNEMP           0\n",
       "NOT_IN_LBFRC    0\n",
       "MED_HV          0\n",
       "INC_LT_25K      0\n",
       "INC_25_50K      0\n",
       "INC_50_75K      0\n",
       "INC_75_100K     0\n",
       "INC_100_150K    0\n",
       "INC_GT_150      0\n",
       "MEDINC          0\n",
       "GEOG            0\n",
       "TOT_POP         0\n",
       "TOT_HH          0\n",
       "MED_ROOMS       0\n",
       "dtype: int64"
      ]
     },
     "execution_count": 41,
     "metadata": {},
     "output_type": "execute_result"
    }
   ],
   "source": [
    "pd.isnull(ecodata15).sum()"
   ]
  },
  {
   "cell_type": "code",
   "execution_count": 42,
   "id": "e245f12c",
   "metadata": {},
   "outputs": [
    {
     "data": {
      "text/plain": [
       "WHITE           0\n",
       "HISP            0\n",
       "BLACK           0\n",
       "ASIAN           0\n",
       "OTHER           0\n",
       "UND19           0\n",
       "A20_34          0\n",
       "A35_49          0\n",
       "A50_64          0\n",
       "A65_79          0\n",
       "OV80            0\n",
       "MED_AGE         0\n",
       "IN_LBFRC        0\n",
       "EMP             0\n",
       "UNEMP           0\n",
       "NOT_IN_LBFRC    0\n",
       "MED_HV          0\n",
       "INC_LT_25K      0\n",
       "INC_25_50K      0\n",
       "INC_50_75K      0\n",
       "INC_75_100K     0\n",
       "INC_100_150K    0\n",
       "INC_GT_150      0\n",
       "MEDINC          0\n",
       "GEOG            0\n",
       "TOT_POP         0\n",
       "TOT_HH          0\n",
       "MED_ROOMS       0\n",
       "dtype: int64"
      ]
     },
     "execution_count": 42,
     "metadata": {},
     "output_type": "execute_result"
    }
   ],
   "source": [
    "pd.isna(ecodata15).sum()"
   ]
  },
  {
   "cell_type": "code",
   "execution_count": 94,
   "id": "5afc0cc8",
   "metadata": {},
   "outputs": [],
   "source": [
    "ecodata15.loc[ecodata15[ecodata15['GEOG']=='O\\'Hare'].index,'GEOG']='ohare'"
   ]
  },
  {
   "cell_type": "code",
   "execution_count": 99,
   "id": "a807b2d3",
   "metadata": {},
   "outputs": [
    {
     "data": {
      "text/plain": [
       "array(['Albany Park', 'Archer Heights', 'Armour Square', 'Ashburn',\n",
       "       'Auburn Gresham', 'Austin', 'Avalon Park', 'Avondale',\n",
       "       'Belmont Cragin', 'Beverly', 'Bridgeport', 'Brighton Park',\n",
       "       'Burnside', 'Calumet Heights', 'Chatham', 'Chicago Lawn',\n",
       "       'Clearing', 'Douglas', 'Dunning', 'East Garfield Park',\n",
       "       'East Side', 'Edgewater', 'Edison Park', 'Englewood',\n",
       "       'Forest Glen', 'Fuller Park', 'Gage Park', 'Garfield Ridge',\n",
       "       'Grand Boulevard', 'Greater Grand Crossing', 'Hegewisch',\n",
       "       'Hermosa', 'Humboldt Park', 'Hyde Park', 'Irving Park',\n",
       "       'Jefferson Park', 'Kenwood', 'Lake View', 'Lincoln Park',\n",
       "       'Lincoln Square', 'Logan Square', 'Lower West Side',\n",
       "       'McKinley Park', 'Montclare', 'Morgan Park', 'Mount Greenwood',\n",
       "       'Near North Side', 'Near South Side', 'Near West Side', 'New City',\n",
       "       'North Center', 'North Lawndale', 'North Park', 'Norwood Park',\n",
       "       'ohare', 'Oakland', 'Portage Park', 'Pullman', 'Riverdale',\n",
       "       'Rogers Park', 'Roseland', 'South Chicago', 'South Deering',\n",
       "       'South Lawndale', 'South Shore', 'The Loop', 'Uptown',\n",
       "       'Washington Heights', 'Washington Park', 'West Elsdon',\n",
       "       'West Englewood', 'West Garfield Park', 'West Lawn',\n",
       "       'West Pullman', 'West Ridge', 'West Town', 'Woodlawn'],\n",
       "      dtype=object)"
      ]
     },
     "execution_count": 99,
     "metadata": {},
     "output_type": "execute_result"
    }
   ],
   "source": [
    "ecodata15.GEOG.values"
   ]
  },
  {
   "cell_type": "code",
   "execution_count": 64,
   "id": "06a2a310",
   "metadata": {},
   "outputs": [
    {
     "name": "stderr",
     "output_type": "stream",
     "text": [
      "/tmp/ipykernel_3791260/1541620989.py:1: SettingWithCopyWarning: \n",
      "A value is trying to be set on a copy of a slice from a DataFrame.\n",
      "Try using .loc[row_indexer,col_indexer] = value instead\n",
      "\n",
      "See the caveats in the documentation: https://pandas.pydata.org/pandas-docs/stable/user_guide/indexing.html#returning-a-view-versus-a-copy\n",
      "  ecodata18[ecodata18['GEOG']=='Oakland']['GEOG']='Oakland1'\n"
     ]
    }
   ],
   "source": [
    "ecodata18[ecodata18['GEOG']=='Oakland']['GEOG']='Oakland1'"
   ]
  },
  {
   "cell_type": "code",
   "execution_count": 100,
   "id": "2f8d9131",
   "metadata": {},
   "outputs": [
    {
     "data": {
      "text/plain": [
       "Index([], dtype='int64')"
      ]
     },
     "execution_count": 100,
     "metadata": {},
     "output_type": "execute_result"
    }
   ],
   "source": [
    "ecodata15[ecodata15['GEOG']=='Loop'].index"
   ]
  },
  {
   "cell_type": "code",
   "execution_count": 101,
   "id": "c6ffb1a8",
   "metadata": {},
   "outputs": [],
   "source": [
    "ecodata15=pd.read_csv('./Data/ProjectData/econ15.csv')"
   ]
  }
 ],
 "metadata": {
  "kernelspec": {
   "display_name": "Python 3 (ipykernel)",
   "language": "python",
   "name": "python3"
  },
  "language_info": {
   "codemirror_mode": {
    "name": "ipython",
    "version": 3
   },
   "file_extension": ".py",
   "mimetype": "text/x-python",
   "name": "python",
   "nbconvert_exporter": "python",
   "pygments_lexer": "ipython3",
   "version": "3.9.16"
  }
 },
 "nbformat": 4,
 "nbformat_minor": 5
}
